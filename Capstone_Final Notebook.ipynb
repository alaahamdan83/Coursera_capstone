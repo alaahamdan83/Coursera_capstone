{
 "cells": [
  {
   "cell_type": "markdown",
   "metadata": {},
   "source": [
    "# IBM Data Sceince Capstone \n",
    "This notebook is for the capstone project for the 9-courses specialization in Data Science of IBM. Platform Coursera. Data Science Specialization\n",
    "This project will try to solve a problem or question by applying data science methods on the location data gotten from FourSquare API.\n",
    "\n",
    "### By: Alaa Hamdan\n",
    "    eng.alaahamdan@gmail.com"
   ]
  },
  {
   "cell_type": "markdown",
   "metadata": {},
   "source": [
    "## I. Project Description:\n",
    "\n",
    "### 1- Introduction:"
   ]
  },
  {
   "cell_type": "markdown",
   "metadata": {},
   "source": [
    "Jordan is one of the Middle-East countries that is having a small Goegraphical area and around 10 Million population, it is famous of its excellent weather and of the historical places (such as Petra)\n",
    "Jordan Consist of 12 Governorates and around 89 Major Neighborhoods distributed across the country. those major Neighborhoods are having different charasteristics and what is popular in one Neighborr is different than the others\n",
    "having a private small business is a little bit challenging due to the economical situation. the percentage of small businesses that ends by closing out is around 40%. that is why intensive studies and analysis should be done in prior\n",
    "one of the popular venues in Jordan is Cafe's. but it is only popular in limited Neighborhoods. openning Cafe is very benificial if done in the right place\n",
    "\n"
   ]
  },
  {
   "cell_type": "markdown",
   "metadata": {},
   "source": [
    "### 2- Business Question:"
   ]
  },
  {
   "cell_type": "markdown",
   "metadata": {},
   "source": [
    "In This Project, the aim is to find the best 5 Neighborhoods to open a Cafe that is having high propability of being successful. the approch is to utilize Foursquare data to explore Jodaina Neighborhoods in terms of:\n",
    " - What are the finues exist in each Neighborhood\n",
    " - what are the similarities among Neighborhoods\n",
    " - is there any kind of Neighborhoods that is having high porobabilty of being successful if we open a Cafe\n",
    " - is there a Neighborhood with low number of compititors but with high probability of being a successful location?"
   ]
  },
  {
   "cell_type": "markdown",
   "metadata": {},
   "source": [
    "## II. Description of the data:"
   ]
  },
  {
   "cell_type": "markdown",
   "metadata": {},
   "source": [
    "the main data used for this project will be from two sources:\n",
    "\n",
    "- The geolocation data of Jordanian Major Neighborhoods (collected from the different websites)\n",
    "\n",
    "- The venues in each neighborhood. (FourSquare API)\n",
    "\n",
    "- Other supporting data:\n",
    "\n",
    "    - Coordinates (Geocoder Python)\n",
    "    - GeoJson (http://data.beta.nyc)\n"
   ]
  },
  {
   "cell_type": "markdown",
   "metadata": {},
   "source": [
    "### 1. Data collection process:\n",
    "- the location of each Neighborhood will be loaded through an excel file.\n",
    "- For Jordan Coordinates, call Geocoder Python to get its coordinate.\n",
    "- For each neighborhood's coordinate, call FourSquare API to get the surrounding venues.\n",
    "- Count the occurrences of each venue type and attach that information to each neighborhood.\n",
    "- The output of the data collecting process will be a 2 dimensions dataframe:\n",
    "\n",
    "- Each row represents a neighborhood.\n",
    "- Each column will be the count of one type of venue in that neighborhood.\n"
   ]
  },
  {
   "cell_type": "markdown",
   "metadata": {},
   "source": [
    "### 2. Using data to solve the question:\n",
    "- First, Correlation between Neighborhoods data and Venues.\n",
    "- Second, explore each Neighborhood with its most existing Venues\n",
    "- Third, Cluster Neighborhood and find Similar Neighborhoods\n",
    "- Forth, Find the cluster with highest number of Cafe's\n",
    "- Inside this cluster, as all Neighborhoods are haaving similar charesteristics, find the Neighborhood with lowest number of Competitors to be a candidate for opening a cafe\n",
    "- extract the top 5 candidate Neighborhoods"
   ]
  },
  {
   "cell_type": "markdown",
   "metadata": {},
   "source": [
    "## III. Methodology:"
   ]
  },
  {
   "cell_type": "markdown",
   "metadata": {},
   "source": [
    "- Venues in each major Neighborhood will be collected from Foursquare API limited to 100 Venues and in a range of 2Km from the Neighbrhood coordinates\n",
    "- After Combining all the data, Clustering Methodology will be used to find the Similiar Neighborhoods\n",
    "- KMeans clustering will be choosed to cluster Neighborhoods into 5 Clusters\n",
    "- Visualisation over Foluim to be used for visualising the results\n",
    "- a Neighborhood popular with Cafe's is the target cluster\n",
    "- the Neighborhood belong to this cluster with lowest Number of Cafe's is a target Neighborhood"
   ]
  },
  {
   "cell_type": "markdown",
   "metadata": {},
   "source": [
    "## IV. Results:"
   ]
  },
  {
   "attachments": {},
   "cell_type": "markdown",
   "metadata": {},
   "source": [
    "- Number of Major Neighborhoods analysed was 89, Venues returned for 74 Neighborhoods (15 Neighborhoods were Droped\n",
    "- 74 Neighborhoods were clustered in 5 clusters\n",
    "- Cluster 3 was considered as the cluster with highest number of Cafe's\n",
    "- inside Cluster 3: we have 86 Cafe's distributed over 27 Neighborhoods\n",
    "- the following Neighborhoods are having High Competetion in terms of Cafe's so it is not benificial to open Cafe there:\n",
    "    - Center_Irbid\n",
    "    - Marka\n",
    "    - Center_Amman\n",
    "    - Jamaa\n",
    "    - Wadi_seer\n",
    "    \n",
    "#### Best Neighborhoods to open a cafe:\n",
    "- the Followig Neighborhoods in Cluster 3 are having the lowest Number of Cafe's, they are the best candidates to open a cafe:\n",
    "   - Neighborhood\n",
    "    - Yarqa           1\n",
    "    - Arda            1\n",
    "    - Arjan           1\n",
    "    - Center_Aqaba    1\n",
    "    - Petra           1\n"
   ]
  },
  {
   "cell_type": "markdown",
   "metadata": {},
   "source": [
    "## IV. Conclusion:\n",
    "\n",
    "In order to have High Probability of success, we suggest the following Neighborhoods to open a Café\n",
    "- Yarqa \n",
    "- Arda \n",
    "- Arjan \n",
    "- Center_Aqaba \n",
    "- Petra\n"
   ]
  },
  {
   "cell_type": "code",
   "execution_count": null,
   "metadata": {},
   "outputs": [],
   "source": []
  }
 ],
 "metadata": {
  "kernelspec": {
   "display_name": "Python 3",
   "language": "python",
   "name": "python3"
  },
  "language_info": {
   "codemirror_mode": {
    "name": "ipython",
    "version": 3
   },
   "file_extension": ".py",
   "mimetype": "text/x-python",
   "name": "python",
   "nbconvert_exporter": "python",
   "pygments_lexer": "ipython3",
   "version": "3.6.5"
  }
 },
 "nbformat": 4,
 "nbformat_minor": 2
}
