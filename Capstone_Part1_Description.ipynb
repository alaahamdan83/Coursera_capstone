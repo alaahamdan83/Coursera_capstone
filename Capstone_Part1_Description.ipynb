{
 "cells": [
  {
   "attachments": {},
   "cell_type": "markdown",
   "metadata": {},
   "source": [
    "# IBM Data Sceince Capstone \n",
    "This notebook is for the capstone project for the 9-courses specialization in Data Science of IBM. Platform Coursera. Data Science Specialization\n",
    "This project will try to solve a problem or question by applying data science methods on the location data gotten from FourSquare API.\n",
    "\n",
    "### By: Alaa Hamdan\n",
    "    eng.alaahamdan@gmail.com"
   ]
  },
  {
   "cell_type": "markdown",
   "metadata": {},
   "source": [
    "## I. Project Description:\n",
    "\n",
    "### 1- Introduction:"
   ]
  },
  {
   "cell_type": "markdown",
   "metadata": {},
   "source": [
    "Jordan is one of the Middle-East countries that is having a small Goegraphical area and around 10 Million population, it is famous of its excellent weather and of the historical places (such as Petra)\n",
    "Jordan Consist of 12 Governorates and around 89 Major Neighborhoods distributed across the country. those major Neighborhoods are having different charasteristics and what is popular in one Neighborr is different than the others\n",
    "having a private small business is a little bit challenging due to the economical situation. the percentage of small businesses that ends by closing out is around 40%. that is why intensive studies and analysis should be done in prior\n",
    "one of the popular venues in Jordan is Cafe's. but it is only popular in limited Neighborhoods. openning Cafe is very benificial if done in the right place\n",
    "\n"
   ]
  },
  {
   "cell_type": "markdown",
   "metadata": {},
   "source": [
    "### 2- Business Question:"
   ]
  },
  {
   "cell_type": "markdown",
   "metadata": {},
   "source": [
    "In This Project, the aim is to find the best 5 Neighborhoods to open a Cafe that is having high propability of being successful. the approch is to utilize Foursquare data to explore Jodaina Neighborhoods in terms of:\n",
    " - What are the finues exist in each Neighborhood\n",
    " - what are the similarities among Neighborhoods\n",
    " - is there any kind of Neighborhoods that is having high porobabilty of being successful if we open a Cafe\n",
    " - is there a Neighborhood with low number of compititors but with high probability of being a successful location?"
   ]
  },
  {
   "cell_type": "code",
   "execution_count": null,
   "metadata": {},
   "outputs": [],
   "source": []
  }
 ],
 "metadata": {
  "kernelspec": {
   "display_name": "Python 3",
   "language": "python",
   "name": "python3"
  },
  "language_info": {
   "codemirror_mode": {
    "name": "ipython",
    "version": 3
   },
   "file_extension": ".py",
   "mimetype": "text/x-python",
   "name": "python",
   "nbconvert_exporter": "python",
   "pygments_lexer": "ipython3",
   "version": "3.6.5"
  }
 },
 "nbformat": 4,
 "nbformat_minor": 2
}
